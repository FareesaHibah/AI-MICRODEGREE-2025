{
  "nbformat": 4,
  "nbformat_minor": 0,
  "metadata": {
    "colab": {
      "provenance": []
    },
    "kernelspec": {
      "name": "python3",
      "display_name": "Python 3"
    },
    "language_info": {
      "name": "python"
    }
  },
  "cells": [
    {
      "cell_type": "markdown",
      "source": [
        "Build a text classification to categorize the the news into 2 categories such as 0 and 1"
      ],
      "metadata": {
        "id": "jRLZrZGSNwHH"
      }
    },
    {
      "cell_type": "markdown",
      "source": [
        "Step 1: Import necessary libraries"
      ],
      "metadata": {
        "id": "ZoxLlmnAOOGj"
      }
    },
    {
      "cell_type": "code",
      "execution_count": null,
      "metadata": {
        "id": "UBHsjOH4Npn-"
      },
      "outputs": [],
      "source": [
        "# For data collection and data manipulation\n",
        "\n",
        "import pandas as pd"
      ]
    },
    {
      "cell_type": "markdown",
      "source": [
        "Step 2: Load the dataset"
      ],
      "metadata": {
        "id": "NrLE-jg5Sngo"
      }
    },
    {
      "cell_type": "code",
      "source": [
        "url = \"https://raw.githubusercontent.com/dD2405/Twitter_Sentiment_Analysis/master/train.csv\""
      ],
      "metadata": {
        "id": "sZn1cvyYOmtQ"
      },
      "execution_count": null,
      "outputs": []
    },
    {
      "cell_type": "code",
      "source": [
        "df = pd.read_csv(url)\n",
        "df.head()"
      ],
      "metadata": {
        "colab": {
          "base_uri": "https://localhost:8080/",
          "height": 206
        },
        "id": "-nrKHiAhPRIZ",
        "outputId": "2c90f9c1-9f4d-4dc7-9f1d-0c4039bd25bf"
      },
      "execution_count": null,
      "outputs": [
        {
          "output_type": "execute_result",
          "data": {
            "text/plain": [
              "   id  label                                              tweet\n",
              "0   1      0   @user when a father is dysfunctional and is s...\n",
              "1   2      0  @user @user thanks for #lyft credit i can't us...\n",
              "2   3      0                                bihday your majesty\n",
              "3   4      0  #model   i love u take with u all the time in ...\n",
              "4   5      0             factsguide: society now    #motivation"
            ],
            "text/html": [
              "\n",
              "  <div id=\"df-7fc91095-a1e8-421d-a9fb-f2560153c189\" class=\"colab-df-container\">\n",
              "    <div>\n",
              "<style scoped>\n",
              "    .dataframe tbody tr th:only-of-type {\n",
              "        vertical-align: middle;\n",
              "    }\n",
              "\n",
              "    .dataframe tbody tr th {\n",
              "        vertical-align: top;\n",
              "    }\n",
              "\n",
              "    .dataframe thead th {\n",
              "        text-align: right;\n",
              "    }\n",
              "</style>\n",
              "<table border=\"1\" class=\"dataframe\">\n",
              "  <thead>\n",
              "    <tr style=\"text-align: right;\">\n",
              "      <th></th>\n",
              "      <th>id</th>\n",
              "      <th>label</th>\n",
              "      <th>tweet</th>\n",
              "    </tr>\n",
              "  </thead>\n",
              "  <tbody>\n",
              "    <tr>\n",
              "      <th>0</th>\n",
              "      <td>1</td>\n",
              "      <td>0</td>\n",
              "      <td>@user when a father is dysfunctional and is s...</td>\n",
              "    </tr>\n",
              "    <tr>\n",
              "      <th>1</th>\n",
              "      <td>2</td>\n",
              "      <td>0</td>\n",
              "      <td>@user @user thanks for #lyft credit i can't us...</td>\n",
              "    </tr>\n",
              "    <tr>\n",
              "      <th>2</th>\n",
              "      <td>3</td>\n",
              "      <td>0</td>\n",
              "      <td>bihday your majesty</td>\n",
              "    </tr>\n",
              "    <tr>\n",
              "      <th>3</th>\n",
              "      <td>4</td>\n",
              "      <td>0</td>\n",
              "      <td>#model   i love u take with u all the time in ...</td>\n",
              "    </tr>\n",
              "    <tr>\n",
              "      <th>4</th>\n",
              "      <td>5</td>\n",
              "      <td>0</td>\n",
              "      <td>factsguide: society now    #motivation</td>\n",
              "    </tr>\n",
              "  </tbody>\n",
              "</table>\n",
              "</div>\n",
              "    <div class=\"colab-df-buttons\">\n",
              "\n",
              "  <div class=\"colab-df-container\">\n",
              "    <button class=\"colab-df-convert\" onclick=\"convertToInteractive('df-7fc91095-a1e8-421d-a9fb-f2560153c189')\"\n",
              "            title=\"Convert this dataframe to an interactive table.\"\n",
              "            style=\"display:none;\">\n",
              "\n",
              "  <svg xmlns=\"http://www.w3.org/2000/svg\" height=\"24px\" viewBox=\"0 -960 960 960\">\n",
              "    <path d=\"M120-120v-720h720v720H120Zm60-500h600v-160H180v160Zm220 220h160v-160H400v160Zm0 220h160v-160H400v160ZM180-400h160v-160H180v160Zm440 0h160v-160H620v160ZM180-180h160v-160H180v160Zm440 0h160v-160H620v160Z\"/>\n",
              "  </svg>\n",
              "    </button>\n",
              "\n",
              "  <style>\n",
              "    .colab-df-container {\n",
              "      display:flex;\n",
              "      gap: 12px;\n",
              "    }\n",
              "\n",
              "    .colab-df-convert {\n",
              "      background-color: #E8F0FE;\n",
              "      border: none;\n",
              "      border-radius: 50%;\n",
              "      cursor: pointer;\n",
              "      display: none;\n",
              "      fill: #1967D2;\n",
              "      height: 32px;\n",
              "      padding: 0 0 0 0;\n",
              "      width: 32px;\n",
              "    }\n",
              "\n",
              "    .colab-df-convert:hover {\n",
              "      background-color: #E2EBFA;\n",
              "      box-shadow: 0px 1px 2px rgba(60, 64, 67, 0.3), 0px 1px 3px 1px rgba(60, 64, 67, 0.15);\n",
              "      fill: #174EA6;\n",
              "    }\n",
              "\n",
              "    .colab-df-buttons div {\n",
              "      margin-bottom: 4px;\n",
              "    }\n",
              "\n",
              "    [theme=dark] .colab-df-convert {\n",
              "      background-color: #3B4455;\n",
              "      fill: #D2E3FC;\n",
              "    }\n",
              "\n",
              "    [theme=dark] .colab-df-convert:hover {\n",
              "      background-color: #434B5C;\n",
              "      box-shadow: 0px 1px 3px 1px rgba(0, 0, 0, 0.15);\n",
              "      filter: drop-shadow(0px 1px 2px rgba(0, 0, 0, 0.3));\n",
              "      fill: #FFFFFF;\n",
              "    }\n",
              "  </style>\n",
              "\n",
              "    <script>\n",
              "      const buttonEl =\n",
              "        document.querySelector('#df-7fc91095-a1e8-421d-a9fb-f2560153c189 button.colab-df-convert');\n",
              "      buttonEl.style.display =\n",
              "        google.colab.kernel.accessAllowed ? 'block' : 'none';\n",
              "\n",
              "      async function convertToInteractive(key) {\n",
              "        const element = document.querySelector('#df-7fc91095-a1e8-421d-a9fb-f2560153c189');\n",
              "        const dataTable =\n",
              "          await google.colab.kernel.invokeFunction('convertToInteractive',\n",
              "                                                    [key], {});\n",
              "        if (!dataTable) return;\n",
              "\n",
              "        const docLinkHtml = 'Like what you see? Visit the ' +\n",
              "          '<a target=\"_blank\" href=https://colab.research.google.com/notebooks/data_table.ipynb>data table notebook</a>'\n",
              "          + ' to learn more about interactive tables.';\n",
              "        element.innerHTML = '';\n",
              "        dataTable['output_type'] = 'display_data';\n",
              "        await google.colab.output.renderOutput(dataTable, element);\n",
              "        const docLink = document.createElement('div');\n",
              "        docLink.innerHTML = docLinkHtml;\n",
              "        element.appendChild(docLink);\n",
              "      }\n",
              "    </script>\n",
              "  </div>\n",
              "\n",
              "\n",
              "    <div id=\"df-390c2442-e96a-4f1c-a7c2-92c74936fcaa\">\n",
              "      <button class=\"colab-df-quickchart\" onclick=\"quickchart('df-390c2442-e96a-4f1c-a7c2-92c74936fcaa')\"\n",
              "                title=\"Suggest charts\"\n",
              "                style=\"display:none;\">\n",
              "\n",
              "<svg xmlns=\"http://www.w3.org/2000/svg\" height=\"24px\"viewBox=\"0 0 24 24\"\n",
              "     width=\"24px\">\n",
              "    <g>\n",
              "        <path d=\"M19 3H5c-1.1 0-2 .9-2 2v14c0 1.1.9 2 2 2h14c1.1 0 2-.9 2-2V5c0-1.1-.9-2-2-2zM9 17H7v-7h2v7zm4 0h-2V7h2v10zm4 0h-2v-4h2v4z\"/>\n",
              "    </g>\n",
              "</svg>\n",
              "      </button>\n",
              "\n",
              "<style>\n",
              "  .colab-df-quickchart {\n",
              "      --bg-color: #E8F0FE;\n",
              "      --fill-color: #1967D2;\n",
              "      --hover-bg-color: #E2EBFA;\n",
              "      --hover-fill-color: #174EA6;\n",
              "      --disabled-fill-color: #AAA;\n",
              "      --disabled-bg-color: #DDD;\n",
              "  }\n",
              "\n",
              "  [theme=dark] .colab-df-quickchart {\n",
              "      --bg-color: #3B4455;\n",
              "      --fill-color: #D2E3FC;\n",
              "      --hover-bg-color: #434B5C;\n",
              "      --hover-fill-color: #FFFFFF;\n",
              "      --disabled-bg-color: #3B4455;\n",
              "      --disabled-fill-color: #666;\n",
              "  }\n",
              "\n",
              "  .colab-df-quickchart {\n",
              "    background-color: var(--bg-color);\n",
              "    border: none;\n",
              "    border-radius: 50%;\n",
              "    cursor: pointer;\n",
              "    display: none;\n",
              "    fill: var(--fill-color);\n",
              "    height: 32px;\n",
              "    padding: 0;\n",
              "    width: 32px;\n",
              "  }\n",
              "\n",
              "  .colab-df-quickchart:hover {\n",
              "    background-color: var(--hover-bg-color);\n",
              "    box-shadow: 0 1px 2px rgba(60, 64, 67, 0.3), 0 1px 3px 1px rgba(60, 64, 67, 0.15);\n",
              "    fill: var(--button-hover-fill-color);\n",
              "  }\n",
              "\n",
              "  .colab-df-quickchart-complete:disabled,\n",
              "  .colab-df-quickchart-complete:disabled:hover {\n",
              "    background-color: var(--disabled-bg-color);\n",
              "    fill: var(--disabled-fill-color);\n",
              "    box-shadow: none;\n",
              "  }\n",
              "\n",
              "  .colab-df-spinner {\n",
              "    border: 2px solid var(--fill-color);\n",
              "    border-color: transparent;\n",
              "    border-bottom-color: var(--fill-color);\n",
              "    animation:\n",
              "      spin 1s steps(1) infinite;\n",
              "  }\n",
              "\n",
              "  @keyframes spin {\n",
              "    0% {\n",
              "      border-color: transparent;\n",
              "      border-bottom-color: var(--fill-color);\n",
              "      border-left-color: var(--fill-color);\n",
              "    }\n",
              "    20% {\n",
              "      border-color: transparent;\n",
              "      border-left-color: var(--fill-color);\n",
              "      border-top-color: var(--fill-color);\n",
              "    }\n",
              "    30% {\n",
              "      border-color: transparent;\n",
              "      border-left-color: var(--fill-color);\n",
              "      border-top-color: var(--fill-color);\n",
              "      border-right-color: var(--fill-color);\n",
              "    }\n",
              "    40% {\n",
              "      border-color: transparent;\n",
              "      border-right-color: var(--fill-color);\n",
              "      border-top-color: var(--fill-color);\n",
              "    }\n",
              "    60% {\n",
              "      border-color: transparent;\n",
              "      border-right-color: var(--fill-color);\n",
              "    }\n",
              "    80% {\n",
              "      border-color: transparent;\n",
              "      border-right-color: var(--fill-color);\n",
              "      border-bottom-color: var(--fill-color);\n",
              "    }\n",
              "    90% {\n",
              "      border-color: transparent;\n",
              "      border-bottom-color: var(--fill-color);\n",
              "    }\n",
              "  }\n",
              "</style>\n",
              "\n",
              "      <script>\n",
              "        async function quickchart(key) {\n",
              "          const quickchartButtonEl =\n",
              "            document.querySelector('#' + key + ' button');\n",
              "          quickchartButtonEl.disabled = true;  // To prevent multiple clicks.\n",
              "          quickchartButtonEl.classList.add('colab-df-spinner');\n",
              "          try {\n",
              "            const charts = await google.colab.kernel.invokeFunction(\n",
              "                'suggestCharts', [key], {});\n",
              "          } catch (error) {\n",
              "            console.error('Error during call to suggestCharts:', error);\n",
              "          }\n",
              "          quickchartButtonEl.classList.remove('colab-df-spinner');\n",
              "          quickchartButtonEl.classList.add('colab-df-quickchart-complete');\n",
              "        }\n",
              "        (() => {\n",
              "          let quickchartButtonEl =\n",
              "            document.querySelector('#df-390c2442-e96a-4f1c-a7c2-92c74936fcaa button');\n",
              "          quickchartButtonEl.style.display =\n",
              "            google.colab.kernel.accessAllowed ? 'block' : 'none';\n",
              "        })();\n",
              "      </script>\n",
              "    </div>\n",
              "\n",
              "    </div>\n",
              "  </div>\n"
            ],
            "application/vnd.google.colaboratory.intrinsic+json": {
              "type": "dataframe",
              "variable_name": "df",
              "summary": "{\n  \"name\": \"df\",\n  \"rows\": 31962,\n  \"fields\": [\n    {\n      \"column\": \"id\",\n      \"properties\": {\n        \"dtype\": \"number\",\n        \"std\": 9226,\n        \"min\": 1,\n        \"max\": 31962,\n        \"num_unique_values\": 31962,\n        \"samples\": [\n          12228,\n          14710,\n          19320\n        ],\n        \"semantic_type\": \"\",\n        \"description\": \"\"\n      }\n    },\n    {\n      \"column\": \"label\",\n      \"properties\": {\n        \"dtype\": \"number\",\n        \"std\": 0,\n        \"min\": 0,\n        \"max\": 1,\n        \"num_unique_values\": 2,\n        \"samples\": [\n          1,\n          0\n        ],\n        \"semantic_type\": \"\",\n        \"description\": \"\"\n      }\n    },\n    {\n      \"column\": \"tweet\",\n      \"properties\": {\n        \"dtype\": \"string\",\n        \"num_unique_values\": 29530,\n        \"samples\": [\n          \"\\\"even if you like #windows 10, you should be   at #microsoft\\\" #computer #spam #spyware #unreliable #os #ms #win \",\n          \"the countdown begins! 10 hours till the musical! \\u00f0\\u009f\\u0098\\u008a\\u00f0\\u009f\\u0098\\u0084\\u00f0\\u009f\\u0098\\u0085 #itsthefinalcountdown #youngcarers #rctcbc #rctcouncil #rct #carersweek   \\u00f0\\u009f\\u0098\\u0081\"\n        ],\n        \"semantic_type\": \"\",\n        \"description\": \"\"\n      }\n    }\n  ]\n}"
            }
          },
          "metadata": {},
          "execution_count": 3
        }
      ]
    },
    {
      "cell_type": "code",
      "source": [
        "df.info()"
      ],
      "metadata": {
        "colab": {
          "base_uri": "https://localhost:8080/"
        },
        "id": "x0AIi7CjP0QK",
        "outputId": "63e98f0e-6fad-44c7-c9e1-52c547cc1b01"
      },
      "execution_count": null,
      "outputs": [
        {
          "output_type": "stream",
          "name": "stdout",
          "text": [
            "<class 'pandas.core.frame.DataFrame'>\n",
            "RangeIndex: 31962 entries, 0 to 31961\n",
            "Data columns (total 3 columns):\n",
            " #   Column  Non-Null Count  Dtype \n",
            "---  ------  --------------  ----- \n",
            " 0   id      31962 non-null  int64 \n",
            " 1   label   31962 non-null  int64 \n",
            " 2   tweet   31962 non-null  object\n",
            "dtypes: int64(2), object(1)\n",
            "memory usage: 749.2+ KB\n"
          ]
        }
      ]
    },
    {
      "cell_type": "code",
      "source": [
        "# To change the column name\n",
        "df = df.rename(columns = {'label': 'category', 'tweet': 'text'})"
      ],
      "metadata": {
        "id": "VomZwY8rQWGj"
      },
      "execution_count": null,
      "outputs": []
    },
    {
      "cell_type": "code",
      "source": [
        "print(df.info())"
      ],
      "metadata": {
        "colab": {
          "base_uri": "https://localhost:8080/"
        },
        "id": "Yi-gRUBgRp8T",
        "outputId": "39d769eb-f8ec-465c-b783-73ae5730f778"
      },
      "execution_count": null,
      "outputs": [
        {
          "output_type": "stream",
          "name": "stdout",
          "text": [
            "<class 'pandas.core.frame.DataFrame'>\n",
            "RangeIndex: 31962 entries, 0 to 31961\n",
            "Data columns (total 3 columns):\n",
            " #   Column    Non-Null Count  Dtype \n",
            "---  ------    --------------  ----- \n",
            " 0   id        31962 non-null  int64 \n",
            " 1   category  31962 non-null  int64 \n",
            " 2   text      31962 non-null  object\n",
            "dtypes: int64(2), object(1)\n",
            "memory usage: 749.2+ KB\n",
            "None\n"
          ]
        }
      ]
    },
    {
      "cell_type": "markdown",
      "source": [
        "Step 3: Explore Data"
      ],
      "metadata": {
        "id": "A4ZUqULLTid3"
      }
    },
    {
      "cell_type": "code",
      "source": [
        "# Libraries for visualizations\n",
        "\n",
        "import seaborn as sns\n",
        "import matplotlib.pyplot as plt\n"
      ],
      "metadata": {
        "id": "Ht7Ub4zOR3Dz"
      },
      "execution_count": null,
      "outputs": []
    },
    {
      "cell_type": "code",
      "source": [
        "print(\"Shape:\", df.shape)       # => Output is in the form of (rows, columns)\n",
        "print(\"Categories:\", df['category'].value_counts())\n",
        "sns.countplot(x = 'category', data = df, color ='skyblue')\n",
        "plt.show()"
      ],
      "metadata": {
        "colab": {
          "base_uri": "https://localhost:8080/",
          "height": 538
        },
        "id": "fZCNwi2jbaxL",
        "outputId": "607ae775-d6da-40c0-cb77-9a0564944b57"
      },
      "execution_count": null,
      "outputs": [
        {
          "output_type": "stream",
          "name": "stdout",
          "text": [
            "Shape: (31962, 3)\n",
            "Categories: category\n",
            "0    29720\n",
            "1     2242\n",
            "Name: count, dtype: int64\n"
          ]
        },
        {
          "output_type": "display_data",
          "data": {
            "text/plain": [
              "<Figure size 640x480 with 1 Axes>"
            ],
            "image/png": "[encoded data removed]"
          },
          "metadata": {}
        }
      ]
    },
    {
      "cell_type": "markdown",
      "source": [
        "Step 4: Cleaning and Pre-process text"
      ],
      "metadata": {
        "id": "WCltoVKudmsf"
      }
    },
    {
      "cell_type": "code",
      "source": [
        "import nltk\n",
        "nltk.download('stopwords')\n",
        "from nltk.corpus import stopwords"
      ],
      "metadata": {
        "colab": {
          "base_uri": "https://localhost:8080/"
        },
        "id": "7DYzQO5Eb1g-",
        "outputId": "7e6f440f-18d5-47cc-ce8e-efbb3c8a0132"
      },
      "execution_count": null,
      "outputs": [
        {
          "output_type": "stream",
          "name": "stderr",
          "text": [
            "[nltk_data] Downloading package stopwords to /root/nltk_data...\n",
            "[nltk_data]   Unzipping corpora/stopwords.zip.\n"
          ]
        }
      ]
    },
    {
      "cell_type": "code",
      "source": [
        "stop_words = set(stopwords.words(\"english\"))\n",
        "print(stop_words)"
      ],
      "metadata": {
        "colab": {
          "base_uri": "https://localhost:8080/"
        },
        "id": "xkQ5qUDmfNHf",
        "outputId": "d4dd511c-7494-446c-8140-534976ef95a4"
      },
      "execution_count": null,
      "outputs": [
        {
          "output_type": "stream",
          "name": "stdout",
          "text": [
            "{\"won't\", 'then', 'an', 'how', 'just', 'own', \"they'd\", 'are', 'now', 'other', \"she'd\", 'haven', 'here', \"wasn't\", \"you'd\", \"doesn't\", 'few', \"it'd\", 'yours', 'against', \"isn't\", \"we're\", 'once', \"aren't\", 'yourself', 'won', 'didn', 'doesn', 'he', 'theirs', 'with', 'were', 're', 'was', 'being', 'than', 'me', 'because', \"he'd\", 'don', \"you'll\", \"we'd\", 'our', 'or', 'at', 'shouldn', \"they've\", 'up', 'some', 'themselves', \"they'll\", \"you're\", 'been', \"i'm\", 'all', 'does', 'if', \"that'll\", 'again', 'couldn', 'each', 'their', 'more', \"we've\", 'isn', 'will', 'until', 'my', 'wasn', \"weren't\", 'll', 'have', \"we'll\", 'aren', 'only', 'whom', 'had', 'has', 'y', 'who', 'both', 'out', 'that', 'during', 'mustn', \"she's\", \"i'll\", 'it', 'its', 'off', 'she', 'when', 's', 'should', \"should've\", 'nor', 'be', 'mightn', 'him', 'after', \"didn't\", 'ourselves', 'them', \"shouldn't\", 'between', 'm', \"hadn't\", 'very', 'for', 'myself', 'this', 'yourselves', 't', 'where', 'your', 'did', 'into', 'through', 'so', 'himself', 'i', \"she'll\", 'most', \"mustn't\", 'these', 'ours', 'having', 'can', 'any', 'hasn', 'which', 'why', 'ma', \"needn't\", 'in', 'of', 'his', \"it'll\", 'ain', 'as', 'am', 'a', 'such', 'those', \"haven't\", 'is', 'we', \"i'd\", \"shan't\", \"wouldn't\", 'doing', 'shan', \"you've\", 'no', 'above', 'her', 'over', 'there', 'needn', 'same', 've', 'and', 'by', \"hasn't\", 'herself', \"they're\", \"mightn't\", \"he's\", 'further', \"i've\", 'to', 'you', \"couldn't\", 'itself', 'not', \"don't\", 'before', 'while', 'below', 'd', \"he'll\", 'the', 'hadn', 'but', \"it's\", 'hers', 'too', 'down', 'wouldn', 'do', 'from', 'under', 'about', 'what', 'o', 'on', 'weren', 'they'}\n"
          ]
        }
      ]
    },
    {
      "cell_type": "code",
      "source": [
        "import re"
      ],
      "metadata": {
        "id": "5BCfbU_JhWld"
      },
      "execution_count": null,
      "outputs": []
    },
    {
      "cell_type": "code",
      "source": [
        "df['text'][0]"
      ],
      "metadata": {
        "id": "jT1OhuI4iOC7",
        "colab": {
          "base_uri": "https://localhost:8080/",
          "height": 35
        },
        "outputId": "4dfc579d-0d39-4341-f530-3a6a0de8d8c9"
      },
      "execution_count": null,
      "outputs": [
        {
          "output_type": "execute_result",
          "data": {
            "text/plain": [
              "' @user when a father is dysfunctional and is so selfish he drags his kids into his dysfunction.   #run'"
            ],
            "application/vnd.google.colaboratory.intrinsic+json": {
              "type": "string"
            }
          },
          "metadata": {},
          "execution_count": 31
        }
      ]
    },
    {
      "cell_type": "code",
      "source": [
        "def clean_text(text):\n",
        "  text = text.lower()\n",
        "  re.sub(r'[a-zA-Z]', '', text)\n",
        "  token = text.split()\n",
        "  token = [w for w in token if w not in stop_words]\n",
        "  return ' '.join(token)"
      ],
      "metadata": {
        "id": "Ty-hsx0dg9z4"
      },
      "execution_count": null,
      "outputs": []
    },
    {
      "cell_type": "code",
      "source": [
        "df['cleaned_text'] = df['text'].apply(clean_text)"
      ],
      "metadata": {
        "id": "hnHybOkrlOlr"
      },
      "execution_count": null,
      "outputs": []
    },
    {
      "cell_type": "code",
      "source": [
        "df['text']"
      ],
      "metadata": {
        "id": "3GV6wAzRlyLp",
        "colab": {
          "base_uri": "https://localhost:8080/",
          "height": 458
        },
        "outputId": "44176ebf-e420-4eb0-ac99-3b244eb0cc00"
      },
      "execution_count": null,
      "outputs": [
        {
          "output_type": "execute_result",
          "data": {
            "text/plain": [
              "0         @user when a father is dysfunctional and is s...\n",
              "1        @user @user thanks for #lyft credit i can't us...\n",
              "2                                      bihday your majesty\n",
              "3        #model   i love u take with u all the time in ...\n",
              "4                   factsguide: society now    #motivation\n",
              "                               ...                        \n",
              "31957    ate @user isz that youuu?ðððððð...\n",
              "31958      to see nina turner on the airwaves trying to...\n",
              "31959    listening to sad songs on a monday morning otw...\n",
              "31960    @user #sikh #temple vandalised in in #calgary,...\n",
              "31961                     thank you @user for you follow  \n",
              "Name: text, Length: 31962, dtype: object"
            ],
            "text/html": [
              "<div>\n",
              "<style scoped>\n",
              "    .dataframe tbody tr th:only-of-type {\n",
              "        vertical-align: middle;\n",
              "    }\n",
              "\n",
              "    .dataframe tbody tr th {\n",
              "        vertical-align: top;\n",
              "    }\n",
              "\n",
              "    .dataframe thead th {\n",
              "        text-align: right;\n",
              "    }\n",
              "</style>\n",
              "<table border=\"1\" class=\"dataframe\">\n",
              "  <thead>\n",
              "    <tr style=\"text-align: right;\">\n",
              "      <th></th>\n",
              "      <th>text</th>\n",
              "    </tr>\n",
              "  </thead>\n",
              "  <tbody>\n",
              "    <tr>\n",
              "      <th>0</th>\n",
              "      <td>@user when a father is dysfunctional and is s...</td>\n",
              "    </tr>\n",
              "    <tr>\n",
              "      <th>1</th>\n",
              "      <td>@user @user thanks for #lyft credit i can't us...</td>\n",
              "    </tr>\n",
              "    <tr>\n",
              "      <th>2</th>\n",
              "      <td>bihday your majesty</td>\n",
              "    </tr>\n",
              "    <tr>\n",
              "      <th>3</th>\n",
              "      <td>#model   i love u take with u all the time in ...</td>\n",
              "    </tr>\n",
              "    <tr>\n",
              "      <th>4</th>\n",
              "      <td>factsguide: society now    #motivation</td>\n",
              "    </tr>\n",
              "    <tr>\n",
              "      <th>...</th>\n",
              "      <td>...</td>\n",
              "    </tr>\n",
              "    <tr>\n",
              "      <th>31957</th>\n",
              "      <td>ate @user isz that youuu?ðððððð...</td>\n",
              "    </tr>\n",
              "    <tr>\n",
              "      <th>31958</th>\n",
              "      <td>to see nina turner on the airwaves trying to...</td>\n",
              "    </tr>\n",
              "    <tr>\n",
              "      <th>31959</th>\n",
              "      <td>listening to sad songs on a monday morning otw...</td>\n",
              "    </tr>\n",
              "    <tr>\n",
              "      <th>31960</th>\n",
              "      <td>@user #sikh #temple vandalised in in #calgary,...</td>\n",
              "    </tr>\n",
              "    <tr>\n",
              "      <th>31961</th>\n",
              "      <td>thank you @user for you follow</td>\n",
              "    </tr>\n",
              "  </tbody>\n",
              "</table>\n",
              "<p>31962 rows × 1 columns</p>\n",
              "</div><br><label><b>dtype:</b> object</label>"
            ]
          },
          "metadata": {},
          "execution_count": 34
        }
      ]
    },
    {
      "cell_type": "markdown",
      "source": [
        "Step 5: Train Test Split"
      ],
      "metadata": {
        "id": "AnYMjXV2oEvt"
      }
    },
    {
      "cell_type": "code",
      "source": [
        "x = df['cleaned_text']\n",
        "y = df['category']"
      ],
      "metadata": {
        "id": "UgSbh1kMmS7K"
      },
      "execution_count": null,
      "outputs": []
    },
    {
      "cell_type": "code",
      "source": [
        "from sklearn.model_selection import train_test_split"
      ],
      "metadata": {
        "id": "U-1i82B7oQBa"
      },
      "execution_count": null,
      "outputs": []
    },
    {
      "cell_type": "code",
      "source": [
        "x_train, x_test, y_train, y_test = train_test_split(x, y, test_size = 0.2, random_state = 42)"
      ],
      "metadata": {
        "id": "w7-gTJi9oVST"
      },
      "execution_count": null,
      "outputs": []
    },
    {
      "cell_type": "markdown",
      "source": [
        "Step 6: Vectorize text with TF-IDF"
      ],
      "metadata": {
        "id": "1Y9SUDjNowJu"
      }
    },
    {
      "cell_type": "code",
      "source": [
        "from sklearn.feature_extraction.text import TfidfVectorizer"
      ],
      "metadata": {
        "id": "as3JwtC7otXc"
      },
      "execution_count": null,
      "outputs": []
    },
    {
      "cell_type": "code",
      "source": [
        "Vect = TfidfVectorizer(max_features = 5000)\n",
        "x_train_vect = Vect.fit_transform(x_train)\n",
        "x_test_vect = Vect.transform(x_test)"
      ],
      "metadata": {
        "id": "L4pZOF9oq6rl"
      },
      "execution_count": null,
      "outputs": []
    },
    {
      "cell_type": "markdown",
      "source": [
        "![WhatsApp Image 2025-06-05 at 10.48.35_cf031cb1.jpg](data:image/jpeg;base64,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)"
      ],
      "metadata": {
        "id": "j6HTrnqUjBZ7"
      }
    },
    {
      "cell_type": "markdown",
      "source": [
        "Step 7: Train Navie Bayes Classifier"
      ],
      "metadata": {
        "id": "nIo0yvcalDoA"
      }
    },
    {
      "cell_type": "code",
      "source": [
        "from sklearn.naive_bayes import MultinomialNB"
      ],
      "metadata": {
        "id": "9gjWw3syrsSu"
      },
      "execution_count": null,
      "outputs": []
    },
    {
      "cell_type": "code",
      "source": [
        "model = MultinomialNB()\n",
        "model.fit(x_train_vect, y_train)"
      ],
      "metadata": {
        "id": "s2Kq-qOGsP30",
        "colab": {
          "base_uri": "https://localhost:8080/",
          "height": 80
        },
        "outputId": "3d38dc7f-d1e6-49a6-820c-df459df6444c"
      },
      "execution_count": null,
      "outputs": [
        {
          "output_type": "execute_result",
          "data": {
            "text/plain": [
              "MultinomialNB()"
            ],
            "text/html": [
              "<style>#sk-container-id-1 {\n",
              "  /* Definition of color scheme common for light and dark mode */\n",
              "  --sklearn-color-text: #000;\n",
              "  --sklearn-color-text-muted: #666;\n",
              "  --sklearn-color-line: gray;\n",
              "  /* Definition of color scheme for unfitted estimators */\n",
              "  --sklearn-color-unfitted-level-0: #fff5e6;\n",
              "  --sklearn-color-unfitted-level-1: #f6e4d2;\n",
              "  --sklearn-color-unfitted-level-2: #ffe0b3;\n",
              "  --sklearn-color-unfitted-level-3: chocolate;\n",
              "  /* Definition of color scheme for fitted estimators */\n",
              "  --sklearn-color-fitted-level-0: #f0f8ff;\n",
              "  --sklearn-color-fitted-level-1: #d4ebff;\n",
              "  --sklearn-color-fitted-level-2: #b3dbfd;\n",
              "  --sklearn-color-fitted-level-3: cornflowerblue;\n",
              "\n",
              "  /* Specific color for light theme */\n",
              "  --sklearn-color-text-on-default-background: var(--sg-text-color, var(--theme-code-foreground, var(--jp-content-font-color1, black)));\n",
              "  --sklearn-color-background: var(--sg-background-color, var(--theme-background, var(--jp-layout-color0, white)));\n",
              "  --sklearn-color-border-box: var(--sg-text-color, var(--theme-code-foreground, var(--jp-content-font-color1, black)));\n",
              "  --sklearn-color-icon: #696969;\n",
              "\n",
              "  @media (prefers-color-scheme: dark) {\n",
              "    /* Redefinition of color scheme for dark theme */\n",
              "    --sklearn-color-text-on-default-background: var(--sg-text-color, var(--theme-code-foreground, var(--jp-content-font-color1, white)));\n",
              "    --sklearn-color-background: var(--sg-background-color, var(--theme-background, var(--jp-layout-color0, #111)));\n",
              "    --sklearn-color-border-box: var(--sg-text-color, var(--theme-code-foreground, var(--jp-content-font-color1, white)));\n",
              "    --sklearn-color-icon: #878787;\n",
              "  }\n",
              "}\n",
              "\n",
              "#sk-container-id-1 {\n",
              "  color: var(--sklearn-color-text);\n",
              "}\n",
              "\n",
              "#sk-container-id-1 pre {\n",
              "  padding: 0;\n",
              "}\n",
              "\n",
              "#sk-container-id-1 input.sk-hidden--visually {\n",
              "  border: 0;\n",
              "  clip: rect(1px 1px 1px 1px);\n",
              "  clip: rect(1px, 1px, 1px, 1px);\n",
              "  height: 1px;\n",
              "  margin: -1px;\n",
              "  overflow: hidden;\n",
              "  padding: 0;\n",
              "  position: absolute;\n",
              "  width: 1px;\n",
              "}\n",
              "\n",
              "#sk-container-id-1 div.sk-dashed-wrapped {\n",
              "  border: 1px dashed var(--sklearn-color-line);\n",
              "  margin: 0 0.4em 0.5em 0.4em;\n",
              "  box-sizing: border-box;\n",
              "  padding-bottom: 0.4em;\n",
              "  background-color: var(--sklearn-color-background);\n",
              "}\n",
              "\n",
              "#sk-container-id-1 div.sk-container {\n",
              "  /* jupyter's `normalize.less` sets `[hidden] { display: none; }`\n",
              "     but bootstrap.min.css set `[hidden] { display: none !important; }`\n",
              "     so we also need the `!important` here to be able to override the\n",
              "     default hidden behavior on the sphinx rendered scikit-learn.org.\n",
              "     See: https://github.com/scikit-learn/scikit-learn/issues/21755 */\n",
              "  display: inline-block !important;\n",
              "  position: relative;\n",
              "}\n",
              "\n",
              "#sk-container-id-1 div.sk-text-repr-fallback {\n",
              "  display: none;\n",
              "}\n",
              "\n",
              "div.sk-parallel-item,\n",
              "div.sk-serial,\n",
              "div.sk-item {\n",
              "  /* draw centered vertical line to link estimators */\n",
              "  background-image: linear-gradient(var(--sklearn-color-text-on-default-background), var(--sklearn-color-text-on-default-background));\n",
              "  background-size: 2px 100%;\n",
              "  background-repeat: no-repeat;\n",
              "  background-position: center center;\n",
              "}\n",
              "\n",
              "/* Parallel-specific style estimator block */\n",
              "\n",
              "#sk-container-id-1 div.sk-parallel-item::after {\n",
              "  content: \"\";\n",
              "  width: 100%;\n",
              "  border-bottom: 2px solid var(--sklearn-color-text-on-default-background);\n",
              "  flex-grow: 1;\n",
              "}\n",
              "\n",
              "#sk-container-id-1 div.sk-parallel {\n",
              "  display: flex;\n",
              "  align-items: stretch;\n",
              "  justify-content: center;\n",
              "  background-color: var(--sklearn-color-background);\n",
              "  position: relative;\n",
              "}\n",
              "\n",
              "#sk-container-id-1 div.sk-parallel-item {\n",
              "  display: flex;\n",
              "  flex-direction: column;\n",
              "}\n",
              "\n",
              "#sk-container-id-1 div.sk-parallel-item:first-child::after {\n",
              "  align-self: flex-end;\n",
              "  width: 50%;\n",
              "}\n",
              "\n",
              "#sk-container-id-1 div.sk-parallel-item:last-child::after {\n",
              "  align-self: flex-start;\n",
              "  width: 50%;\n",
              "}\n",
              "\n",
              "#sk-container-id-1 div.sk-parallel-item:only-child::after {\n",
              "  width: 0;\n",
              "}\n",
              "\n",
              "/* Serial-specific style estimator block */\n",
              "\n",
              "#sk-container-id-1 div.sk-serial {\n",
              "  display: flex;\n",
              "  flex-direction: column;\n",
              "  align-items: center;\n",
              "  background-color: var(--sklearn-color-background);\n",
              "  padding-right: 1em;\n",
              "  padding-left: 1em;\n",
              "}\n",
              "\n",
              "\n",
              "/* Toggleable style: style used for estimator/Pipeline/ColumnTransformer box that is\n",
              "clickable and can be expanded/collapsed.\n",
              "- Pipeline and ColumnTransformer use this feature and define the default style\n",
              "- Estimators will overwrite some part of the style using the `sk-estimator` class\n",
              "*/\n",
              "\n",
              "/* Pipeline and ColumnTransformer style (default) */\n",
              "\n",
              "#sk-container-id-1 div.sk-toggleable {\n",
              "  /* Default theme specific background. It is overwritten whether we have a\n",
              "  specific estimator or a Pipeline/ColumnTransformer */\n",
              "  background-color: var(--sklearn-color-background);\n",
              "}\n",
              "\n",
              "/* Toggleable label */\n",
              "#sk-container-id-1 label.sk-toggleable__label {\n",
              "  cursor: pointer;\n",
              "  display: flex;\n",
              "  width: 100%;\n",
              "  margin-bottom: 0;\n",
              "  padding: 0.5em;\n",
              "  box-sizing: border-box;\n",
              "  text-align: center;\n",
              "  align-items: start;\n",
              "  justify-content: space-between;\n",
              "  gap: 0.5em;\n",
              "}\n",
              "\n",
              "#sk-container-id-1 label.sk-toggleable__label .caption {\n",
              "  font-size: 0.6rem;\n",
              "  font-weight: lighter;\n",
              "  color: var(--sklearn-color-text-muted);\n",
              "}\n",
              "\n",
              "#sk-container-id-1 label.sk-toggleable__label-arrow:before {\n",
              "  /* Arrow on the left of the label */\n",
              "  content: \"▸\";\n",
              "  float: left;\n",
              "  margin-right: 0.25em;\n",
              "  color: var(--sklearn-color-icon);\n",
              "}\n",
              "\n",
              "#sk-container-id-1 label.sk-toggleable__label-arrow:hover:before {\n",
              "  color: var(--sklearn-color-text);\n",
              "}\n",
              "\n",
              "/* Toggleable content - dropdown */\n",
              "\n",
              "#sk-container-id-1 div.sk-toggleable__content {\n",
              "  max-height: 0;\n",
              "  max-width: 0;\n",
              "  overflow: hidden;\n",
              "  text-align: left;\n",
              "  /* unfitted */\n",
              "  background-color: var(--sklearn-color-unfitted-level-0);\n",
              "}\n",
              "\n",
              "#sk-container-id-1 div.sk-toggleable__content.fitted {\n",
              "  /* fitted */\n",
              "  background-color: var(--sklearn-color-fitted-level-0);\n",
              "}\n",
              "\n",
              "#sk-container-id-1 div.sk-toggleable__content pre {\n",
              "  margin: 0.2em;\n",
              "  border-radius: 0.25em;\n",
              "  color: var(--sklearn-color-text);\n",
              "  /* unfitted */\n",
              "  background-color: var(--sklearn-color-unfitted-level-0);\n",
              "}\n",
              "\n",
              "#sk-container-id-1 div.sk-toggleable__content.fitted pre {\n",
              "  /* unfitted */\n",
              "  background-color: var(--sklearn-color-fitted-level-0);\n",
              "}\n",
              "\n",
              "#sk-container-id-1 input.sk-toggleable__control:checked~div.sk-toggleable__content {\n",
              "  /* Expand drop-down */\n",
              "  max-height: 200px;\n",
              "  max-width: 100%;\n",
              "  overflow: auto;\n",
              "}\n",
              "\n",
              "#sk-container-id-1 input.sk-toggleable__control:checked~label.sk-toggleable__label-arrow:before {\n",
              "  content: \"▾\";\n",
              "}\n",
              "\n",
              "/* Pipeline/ColumnTransformer-specific style */\n",
              "\n",
              "#sk-container-id-1 div.sk-label input.sk-toggleable__control:checked~label.sk-toggleable__label {\n",
              "  color: var(--sklearn-color-text);\n",
              "  background-color: var(--sklearn-color-unfitted-level-2);\n",
              "}\n",
              "\n",
              "#sk-container-id-1 div.sk-label.fitted input.sk-toggleable__control:checked~label.sk-toggleable__label {\n",
              "  background-color: var(--sklearn-color-fitted-level-2);\n",
              "}\n",
              "\n",
              "/* Estimator-specific style */\n",
              "\n",
              "/* Colorize estimator box */\n",
              "#sk-container-id-1 div.sk-estimator input.sk-toggleable__control:checked~label.sk-toggleable__label {\n",
              "  /* unfitted */\n",
              "  background-color: var(--sklearn-color-unfitted-level-2);\n",
              "}\n",
              "\n",
              "#sk-container-id-1 div.sk-estimator.fitted input.sk-toggleable__control:checked~label.sk-toggleable__label {\n",
              "  /* fitted */\n",
              "  background-color: var(--sklearn-color-fitted-level-2);\n",
              "}\n",
              "\n",
              "#sk-container-id-1 div.sk-label label.sk-toggleable__label,\n",
              "#sk-container-id-1 div.sk-label label {\n",
              "  /* The background is the default theme color */\n",
              "  color: var(--sklearn-color-text-on-default-background);\n",
              "}\n",
              "\n",
              "/* On hover, darken the color of the background */\n",
              "#sk-container-id-1 div.sk-label:hover label.sk-toggleable__label {\n",
              "  color: var(--sklearn-color-text);\n",
              "  background-color: var(--sklearn-color-unfitted-level-2);\n",
              "}\n",
              "\n",
              "/* Label box, darken color on hover, fitted */\n",
              "#sk-container-id-1 div.sk-label.fitted:hover label.sk-toggleable__label.fitted {\n",
              "  color: var(--sklearn-color-text);\n",
              "  background-color: var(--sklearn-color-fitted-level-2);\n",
              "}\n",
              "\n",
              "/* Estimator label */\n",
              "\n",
              "#sk-container-id-1 div.sk-label label {\n",
              "  font-family: monospace;\n",
              "  font-weight: bold;\n",
              "  display: inline-block;\n",
              "  line-height: 1.2em;\n",
              "}\n",
              "\n",
              "#sk-container-id-1 div.sk-label-container {\n",
              "  text-align: center;\n",
              "}\n",
              "\n",
              "/* Estimator-specific */\n",
              "#sk-container-id-1 div.sk-estimator {\n",
              "  font-family: monospace;\n",
              "  border: 1px dotted var(--sklearn-color-border-box);\n",
              "  border-radius: 0.25em;\n",
              "  box-sizing: border-box;\n",
              "  margin-bottom: 0.5em;\n",
              "  /* unfitted */\n",
              "  background-color: var(--sklearn-color-unfitted-level-0);\n",
              "}\n",
              "\n",
              "#sk-container-id-1 div.sk-estimator.fitted {\n",
              "  /* fitted */\n",
              "  background-color: var(--sklearn-color-fitted-level-0);\n",
              "}\n",
              "\n",
              "/* on hover */\n",
              "#sk-container-id-1 div.sk-estimator:hover {\n",
              "  /* unfitted */\n",
              "  background-color: var(--sklearn-color-unfitted-level-2);\n",
              "}\n",
              "\n",
              "#sk-container-id-1 div.sk-estimator.fitted:hover {\n",
              "  /* fitted */\n",
              "  background-color: var(--sklearn-color-fitted-level-2);\n",
              "}\n",
              "\n",
              "/* Specification for estimator info (e.g. \"i\" and \"?\") */\n",
              "\n",
              "/* Common style for \"i\" and \"?\" */\n",
              "\n",
              ".sk-estimator-doc-link,\n",
              "a:link.sk-estimator-doc-link,\n",
              "a:visited.sk-estimator-doc-link {\n",
              "  float: right;\n",
              "  font-size: smaller;\n",
              "  line-height: 1em;\n",
              "  font-family: monospace;\n",
              "  background-color: var(--sklearn-color-background);\n",
              "  border-radius: 1em;\n",
              "  height: 1em;\n",
              "  width: 1em;\n",
              "  text-decoration: none !important;\n",
              "  margin-left: 0.5em;\n",
              "  text-align: center;\n",
              "  /* unfitted */\n",
              "  border: var(--sklearn-color-unfitted-level-1) 1pt solid;\n",
              "  color: var(--sklearn-color-unfitted-level-1);\n",
              "}\n",
              "\n",
              ".sk-estimator-doc-link.fitted,\n",
              "a:link.sk-estimator-doc-link.fitted,\n",
              "a:visited.sk-estimator-doc-link.fitted {\n",
              "  /* fitted */\n",
              "  border: var(--sklearn-color-fitted-level-1) 1pt solid;\n",
              "  color: var(--sklearn-color-fitted-level-1);\n",
              "}\n",
              "\n",
              "/* On hover */\n",
              "div.sk-estimator:hover .sk-estimator-doc-link:hover,\n",
              ".sk-estimator-doc-link:hover,\n",
              "div.sk-label-container:hover .sk-estimator-doc-link:hover,\n",
              ".sk-estimator-doc-link:hover {\n",
              "  /* unfitted */\n",
              "  background-color: var(--sklearn-color-unfitted-level-3);\n",
              "  color: var(--sklearn-color-background);\n",
              "  text-decoration: none;\n",
              "}\n",
              "\n",
              "div.sk-estimator.fitted:hover .sk-estimator-doc-link.fitted:hover,\n",
              ".sk-estimator-doc-link.fitted:hover,\n",
              "div.sk-label-container:hover .sk-estimator-doc-link.fitted:hover,\n",
              ".sk-estimator-doc-link.fitted:hover {\n",
              "  /* fitted */\n",
              "  background-color: var(--sklearn-color-fitted-level-3);\n",
              "  color: var(--sklearn-color-background);\n",
              "  text-decoration: none;\n",
              "}\n",
              "\n",
              "/* Span, style for the box shown on hovering the info icon */\n",
              ".sk-estimator-doc-link span {\n",
              "  display: none;\n",
              "  z-index: 9999;\n",
              "  position: relative;\n",
              "  font-weight: normal;\n",
              "  right: .2ex;\n",
              "  padding: .5ex;\n",
              "  margin: .5ex;\n",
              "  width: min-content;\n",
              "  min-width: 20ex;\n",
              "  max-width: 50ex;\n",
              "  color: var(--sklearn-color-text);\n",
              "  box-shadow: 2pt 2pt 4pt #999;\n",
              "  /* unfitted */\n",
              "  background: var(--sklearn-color-unfitted-level-0);\n",
              "  border: .5pt solid var(--sklearn-color-unfitted-level-3);\n",
              "}\n",
              "\n",
              ".sk-estimator-doc-link.fitted span {\n",
              "  /* fitted */\n",
              "  background: var(--sklearn-color-fitted-level-0);\n",
              "  border: var(--sklearn-color-fitted-level-3);\n",
              "}\n",
              "\n",
              ".sk-estimator-doc-link:hover span {\n",
              "  display: block;\n",
              "}\n",
              "\n",
              "/* \"?\"-specific style due to the `<a>` HTML tag */\n",
              "\n",
              "#sk-container-id-1 a.estimator_doc_link {\n",
              "  float: right;\n",
              "  font-size: 1rem;\n",
              "  line-height: 1em;\n",
              "  font-family: monospace;\n",
              "  background-color: var(--sklearn-color-background);\n",
              "  border-radius: 1rem;\n",
              "  height: 1rem;\n",
              "  width: 1rem;\n",
              "  text-decoration: none;\n",
              "  /* unfitted */\n",
              "  color: var(--sklearn-color-unfitted-level-1);\n",
              "  border: var(--sklearn-color-unfitted-level-1) 1pt solid;\n",
              "}\n",
              "\n",
              "#sk-container-id-1 a.estimator_doc_link.fitted {\n",
              "  /* fitted */\n",
              "  border: var(--sklearn-color-fitted-level-1) 1pt solid;\n",
              "  color: var(--sklearn-color-fitted-level-1);\n",
              "}\n",
              "\n",
              "/* On hover */\n",
              "#sk-container-id-1 a.estimator_doc_link:hover {\n",
              "  /* unfitted */\n",
              "  background-color: var(--sklearn-color-unfitted-level-3);\n",
              "  color: var(--sklearn-color-background);\n",
              "  text-decoration: none;\n",
              "}\n",
              "\n",
              "#sk-container-id-1 a.estimator_doc_link.fitted:hover {\n",
              "  /* fitted */\n",
              "  background-color: var(--sklearn-color-fitted-level-3);\n",
              "}\n",
              "</style><div id=\"sk-container-id-1\" class=\"sk-top-container\"><div class=\"sk-text-repr-fallback\"><pre>MultinomialNB()</pre><b>In a Jupyter environment, please rerun this cell to show the HTML representation or trust the notebook. <br />On GitHub, the HTML representation is unable to render, please try loading this page with nbviewer.org.</b></div><div class=\"sk-container\" hidden><div class=\"sk-item\"><div class=\"sk-estimator fitted sk-toggleable\"><input class=\"sk-toggleable__control sk-hidden--visually\" id=\"sk-estimator-id-1\" type=\"checkbox\" checked><label for=\"sk-estimator-id-1\" class=\"sk-toggleable__label fitted sk-toggleable__label-arrow\"><div><div>MultinomialNB</div></div><div><a class=\"sk-estimator-doc-link fitted\" rel=\"noreferrer\" target=\"_blank\" href=\"https://scikit-learn.org/1.6/modules/generated/sklearn.naive_bayes.MultinomialNB.html\">?<span>Documentation for MultinomialNB</span></a><span class=\"sk-estimator-doc-link fitted\">i<span>Fitted</span></span></div></label><div class=\"sk-toggleable__content fitted\"><pre>MultinomialNB()</pre></div> </div></div></div></div>"
            ]
          },
          "metadata": {},
          "execution_count": 39
        }
      ]
    },
    {
      "cell_type": "markdown",
      "source": [
        "Step 8: Evaluating the model"
      ],
      "metadata": {
        "id": "NTg_BgulmTgH"
      }
    },
    {
      "cell_type": "code",
      "source": [
        "y_pred = model.predict(x_test_vect)"
      ],
      "metadata": {
        "id": "hS8zp-ajmJ5P"
      },
      "execution_count": null,
      "outputs": []
    },
    {
      "cell_type": "code",
      "source": [
        "from sklearn.metrics import classification_report, confusion_matrix, accuracy_score"
      ],
      "metadata": {
        "id": "Aa1AJAhqmqyF"
      },
      "execution_count": null,
      "outputs": []
    },
    {
      "cell_type": "code",
      "source": [
        "print(\"Accuracy Score:\", accuracy_score(y_test, y_pred))"
      ],
      "metadata": {
        "colab": {
          "base_uri": "https://localhost:8080/"
        },
        "id": "O1arIFcFm3HU",
        "outputId": "3fdc415b-1682-462b-ee22-4c53ae9e07fd"
      },
      "execution_count": null,
      "outputs": [
        {
          "output_type": "stream",
          "name": "stdout",
          "text": [
            "Accuracy Score: 0.9515094634756766\n"
          ]
        }
      ]
    },
    {
      "cell_type": "code",
      "source": [
        "print(\"Classification Report:\", classification_report(y_test, y_pred))"
      ],
      "metadata": {
        "colab": {
          "base_uri": "https://localhost:8080/"
        },
        "id": "O4u6_dHDm-yX",
        "outputId": "86d284fa-a4e5-4007-c3af-f5eb72dfe8f0"
      },
      "execution_count": null,
      "outputs": [
        {
          "output_type": "stream",
          "name": "stdout",
          "text": [
            "Classification Report:               precision    recall  f1-score   support\n",
            "\n",
            "           0       0.95      1.00      0.97      5937\n",
            "           1       0.95      0.34      0.50       456\n",
            "\n",
            "    accuracy                           0.95      6393\n",
            "   macro avg       0.95      0.67      0.74      6393\n",
            "weighted avg       0.95      0.95      0.94      6393\n",
            "\n"
          ]
        }
      ]
    },
    {
      "cell_type": "code",
      "source": [
        "sns.heatmap(confusion_matrix(y_test, y_pred), annot = True, fmt = 'd')"
      ],
      "metadata": {
        "colab": {
          "base_uri": "https://localhost:8080/",
          "height": 448
        },
        "id": "W_r-mzgloFDP",
        "outputId": "6c575762-f88a-49b8-d9cb-8fb5602a6db0"
      },
      "execution_count": null,
      "outputs": [
        {
          "output_type": "execute_result",
          "data": {
            "text/plain": [
              "<Axes: >"
            ]
          },
          "metadata": {},
          "execution_count": 45
        },
        {
          "output_type": "display_data",
          "data": {
            "text/plain": [
              "<Figure size 640x480 with 2 Axes>"
            ],
            "image/png": "[encoded data removed]"
          },
          "metadata": {}
        }
      ]
    },
    {
      "cell_type": "code",
      "source": [],
      "metadata": {
        "id": "xOD5GalTqXZz"
      },
      "execution_count": null,
      "outputs": []
    }
  ]
}