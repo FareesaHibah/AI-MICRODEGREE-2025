{
 "cells": [
  {
   "cell_type": "markdown",
   "id": "fc4e7191-da8b-426c-bfcc-a624323cb909",
   "metadata": {},
   "source": [
    "### Grouping the data"
   ]
  },
  {
   "cell_type": "code",
   "execution_count": 3,
   "id": "5d4c8aec-af7b-46ff-b004-25cde27ce611",
   "metadata": {},
   "outputs": [],
   "source": [
    "import pandas as pd"
   ]
  },
  {
   "cell_type": "code",
   "execution_count": 8,
   "id": "c62919b2-53c5-4a7b-9347-720a95d7b780",
   "metadata": {},
   "outputs": [
    {
     "data": {
      "text/html": [
       "<div>\n",
       "<style scoped>\n",
       "    .dataframe tbody tr th:only-of-type {\n",
       "        vertical-align: middle;\n",
       "    }\n",
       "\n",
       "    .dataframe tbody tr th {\n",
       "        vertical-align: top;\n",
       "    }\n",
       "\n",
       "    .dataframe thead th {\n",
       "        text-align: right;\n",
       "    }\n",
       "</style>\n",
       "<table border=\"1\" class=\"dataframe\">\n",
       "  <thead>\n",
       "    <tr style=\"text-align: right;\">\n",
       "      <th></th>\n",
       "      <th>Trade</th>\n",
       "      <th>Trainer</th>\n",
       "      <th>Fee</th>\n",
       "      <th>In-charge</th>\n",
       "      <th>index</th>\n",
       "    </tr>\n",
       "  </thead>\n",
       "  <tbody>\n",
       "    <tr>\n",
       "      <th>0</th>\n",
       "      <td>AIPA</td>\n",
       "      <td>Sagar</td>\n",
       "      <td>100000</td>\n",
       "      <td>Ramesh</td>\n",
       "      <td>1</td>\n",
       "    </tr>\n",
       "    <tr>\n",
       "      <th>1</th>\n",
       "      <td>CSA</td>\n",
       "      <td>Srinivas</td>\n",
       "      <td>50000</td>\n",
       "      <td>Ramesh</td>\n",
       "      <td>2</td>\n",
       "    </tr>\n",
       "    <tr>\n",
       "      <th>2</th>\n",
       "      <td>Drone</td>\n",
       "      <td>Akbar</td>\n",
       "      <td>70000</td>\n",
       "      <td>Raghu</td>\n",
       "      <td>3</td>\n",
       "    </tr>\n",
       "    <tr>\n",
       "      <th>3</th>\n",
       "      <td>FDT</td>\n",
       "      <td>Shanti</td>\n",
       "      <td>150000</td>\n",
       "      <td>Raghu</td>\n",
       "      <td>4</td>\n",
       "    </tr>\n",
       "  </tbody>\n",
       "</table>\n",
       "</div>"
      ],
      "text/plain": [
       "   Trade   Trainer     Fee In-charge  index\n",
       "0   AIPA     Sagar  100000    Ramesh      1\n",
       "1    CSA  Srinivas   50000    Ramesh      2\n",
       "2  Drone     Akbar   70000     Raghu      3\n",
       "3    FDT    Shanti  150000     Raghu      4"
      ]
     },
     "execution_count": 8,
     "metadata": {},
     "output_type": "execute_result"
    }
   ],
   "source": [
    "data = {\"Trade\": [\"AIPA\", \"CSA\", \"Drone\", \"FDT\"], \n",
    "        \"Trainer\": [\"Sagar\", \"Srinivas\", \"Akbar\", \"Shanti\"], \n",
    "        \"Fee\": [100000, 50000, 70000, 150000], \n",
    "        \"In-charge\": [\"Ramesh\", \"Ramesh\", \"Raghu\", \"Raghu\"]}\n",
    "\n",
    "df = pd.DataFrame(data)\n",
    "df"
   ]
  },
  {
   "cell_type": "code",
   "execution_count": 10,
   "id": "31639a2f-b013-4c1b-9dab-4b60a017acfd",
   "metadata": {},
   "outputs": [
    {
     "name": "stdout",
     "output_type": "stream",
     "text": [
      "Trade\n",
      "AIPA     100000\n",
      "CSA       50000\n",
      "Drone     70000\n",
      "FDT      150000\n",
      "Name: Fee, dtype: int64\n"
     ]
    }
   ],
   "source": [
    "# Group them by course and display fees\n",
    "\n",
    "group_data = df.groupby('Trade')['Fee'].sum()\n",
    "print(group_data)"
   ]
  },
  {
   "cell_type": "code",
   "execution_count": 12,
   "id": "0d60a100-979c-453f-aa38-5b6607db1875",
   "metadata": {},
   "outputs": [
    {
     "name": "stdout",
     "output_type": "stream",
     "text": [
      "Trade  Trainer \n",
      "AIPA   Sagar       100000\n",
      "CSA    Srinivas     50000\n",
      "Drone  Akbar        70000\n",
      "FDT    Shanti      150000\n",
      "Name: Fee, dtype: int64\n"
     ]
    }
   ],
   "source": [
    "# Group them by multiple columns: trade and trainer and display fees\n",
    "\n",
    "group_data1 = df.groupby(['Trade', 'Trainer'])['Fee'].sum()\n",
    "print(group_data1)"
   ]
  },
  {
   "cell_type": "code",
   "execution_count": 20,
   "id": "9240c82f-98ad-4e52-b04c-dc39615c02e8",
   "metadata": {},
   "outputs": [
    {
     "name": "stdout",
     "output_type": "stream",
     "text": [
      "In-charge  Trade\n",
      "Raghu      Drone     70000\n",
      "           FDT      150000\n",
      "Ramesh     AIPA     100000\n",
      "           CSA       50000\n",
      "Name: Fee, dtype: int64\n"
     ]
    }
   ],
   "source": [
    "group_data2 = df.groupby(['In-charge', 'Trade'])['Fee'].sum()\n",
    "print(group_data2)"
   ]
  },
  {
   "cell_type": "code",
   "execution_count": 22,
   "id": "a7ae0974-77c9-42bd-8e7a-daadbeb87a27",
   "metadata": {},
   "outputs": [
    {
     "data": {
      "text/html": [
       "<div>\n",
       "<style scoped>\n",
       "    .dataframe tbody tr th:only-of-type {\n",
       "        vertical-align: middle;\n",
       "    }\n",
       "\n",
       "    .dataframe tbody tr th {\n",
       "        vertical-align: top;\n",
       "    }\n",
       "\n",
       "    .dataframe thead th {\n",
       "        text-align: right;\n",
       "    }\n",
       "</style>\n",
       "<table border=\"1\" class=\"dataframe\">\n",
       "  <thead>\n",
       "    <tr style=\"text-align: right;\">\n",
       "      <th></th>\n",
       "      <th>sum</th>\n",
       "      <th>mean</th>\n",
       "    </tr>\n",
       "    <tr>\n",
       "      <th>In-charge</th>\n",
       "      <th></th>\n",
       "      <th></th>\n",
       "    </tr>\n",
       "  </thead>\n",
       "  <tbody>\n",
       "    <tr>\n",
       "      <th>Raghu</th>\n",
       "      <td>220000</td>\n",
       "      <td>110000.0</td>\n",
       "    </tr>\n",
       "    <tr>\n",
       "      <th>Ramesh</th>\n",
       "      <td>150000</td>\n",
       "      <td>75000.0</td>\n",
       "    </tr>\n",
       "  </tbody>\n",
       "</table>\n",
       "</div>"
      ],
      "text/plain": [
       "              sum      mean\n",
       "In-charge                  \n",
       "Raghu      220000  110000.0\n",
       "Ramesh     150000   75000.0"
      ]
     },
     "execution_count": 22,
     "metadata": {},
     "output_type": "execute_result"
    }
   ],
   "source": [
    "group_data3 = df.groupby('In-charge')['Fee'].agg(['sum', 'mean'])\n",
    "group_data3"
   ]
  },
  {
   "cell_type": "code",
   "execution_count": 26,
   "id": "32ad6dc9-40a2-4f6e-92bd-5ab431ea6c42",
   "metadata": {},
   "outputs": [
    {
     "data": {
      "text/html": [
       "<div>\n",
       "<style scoped>\n",
       "    .dataframe tbody tr th:only-of-type {\n",
       "        vertical-align: middle;\n",
       "    }\n",
       "\n",
       "    .dataframe tbody tr th {\n",
       "        vertical-align: top;\n",
       "    }\n",
       "\n",
       "    .dataframe thead th {\n",
       "        text-align: right;\n",
       "    }\n",
       "</style>\n",
       "<table border=\"1\" class=\"dataframe\">\n",
       "  <thead>\n",
       "    <tr style=\"text-align: right;\">\n",
       "      <th></th>\n",
       "      <th>Trade</th>\n",
       "      <th>Trainer</th>\n",
       "      <th>Fee</th>\n",
       "      <th>In-charge</th>\n",
       "      <th>index</th>\n",
       "      <th>Fee Contribution % from incharge</th>\n",
       "    </tr>\n",
       "  </thead>\n",
       "  <tbody>\n",
       "    <tr>\n",
       "      <th>0</th>\n",
       "      <td>AIPA</td>\n",
       "      <td>Sagar</td>\n",
       "      <td>100000</td>\n",
       "      <td>Ramesh</td>\n",
       "      <td>1</td>\n",
       "      <td>66.666667</td>\n",
       "    </tr>\n",
       "    <tr>\n",
       "      <th>1</th>\n",
       "      <td>CSA</td>\n",
       "      <td>Srinivas</td>\n",
       "      <td>50000</td>\n",
       "      <td>Ramesh</td>\n",
       "      <td>2</td>\n",
       "      <td>33.333333</td>\n",
       "    </tr>\n",
       "    <tr>\n",
       "      <th>2</th>\n",
       "      <td>Drone</td>\n",
       "      <td>Akbar</td>\n",
       "      <td>70000</td>\n",
       "      <td>Raghu</td>\n",
       "      <td>3</td>\n",
       "      <td>31.818182</td>\n",
       "    </tr>\n",
       "    <tr>\n",
       "      <th>3</th>\n",
       "      <td>FDT</td>\n",
       "      <td>Shanti</td>\n",
       "      <td>150000</td>\n",
       "      <td>Raghu</td>\n",
       "      <td>4</td>\n",
       "      <td>68.181818</td>\n",
       "    </tr>\n",
       "  </tbody>\n",
       "</table>\n",
       "</div>"
      ],
      "text/plain": [
       "   Trade   Trainer     Fee In-charge  index  Fee Contribution % from incharge\n",
       "0   AIPA     Sagar  100000    Ramesh      1                         66.666667\n",
       "1    CSA  Srinivas   50000    Ramesh      2                         33.333333\n",
       "2  Drone     Akbar   70000     Raghu      3                         31.818182\n",
       "3    FDT    Shanti  150000     Raghu      4                         68.181818"
      ]
     },
     "execution_count": 26,
     "metadata": {},
     "output_type": "execute_result"
    }
   ],
   "source": [
    "# Transformation and filtering in groups\n",
    "\n",
    "df['Fee Contribution % from incharge'] = df.groupby('In-charge')['Fee'].transform(lambda x:(x/x.sum())*100)\n",
    "df"
   ]
  },
  {
   "cell_type": "code",
   "execution_count": 31,
   "id": "ff7e49e0-7374-48dc-9427-c2ae4e4c8e69",
   "metadata": {},
   "outputs": [
    {
     "data": {
      "text/html": [
       "<div>\n",
       "<style scoped>\n",
       "    .dataframe tbody tr th:only-of-type {\n",
       "        vertical-align: middle;\n",
       "    }\n",
       "\n",
       "    .dataframe tbody tr th {\n",
       "        vertical-align: top;\n",
       "    }\n",
       "\n",
       "    .dataframe thead th {\n",
       "        text-align: right;\n",
       "    }\n",
       "</style>\n",
       "<table border=\"1\" class=\"dataframe\">\n",
       "  <thead>\n",
       "    <tr style=\"text-align: right;\">\n",
       "      <th></th>\n",
       "      <th>Trade</th>\n",
       "      <th>Trainer</th>\n",
       "      <th>Fee</th>\n",
       "      <th>In-charge</th>\n",
       "      <th>index</th>\n",
       "      <th>Fee Contribution % from incharge</th>\n",
       "    </tr>\n",
       "  </thead>\n",
       "  <tbody>\n",
       "    <tr>\n",
       "      <th>0</th>\n",
       "      <td>AIPA</td>\n",
       "      <td>Sagar</td>\n",
       "      <td>100000</td>\n",
       "      <td>Ramesh</td>\n",
       "      <td>1</td>\n",
       "      <td>66.666667</td>\n",
       "    </tr>\n",
       "    <tr>\n",
       "      <th>3</th>\n",
       "      <td>FDT</td>\n",
       "      <td>Shanti</td>\n",
       "      <td>150000</td>\n",
       "      <td>Raghu</td>\n",
       "      <td>4</td>\n",
       "      <td>68.181818</td>\n",
       "    </tr>\n",
       "  </tbody>\n",
       "</table>\n",
       "</div>"
      ],
      "text/plain": [
       "  Trade Trainer     Fee In-charge  index  Fee Contribution % from incharge\n",
       "0  AIPA   Sagar  100000    Ramesh      1                         66.666667\n",
       "3   FDT  Shanti  150000     Raghu      4                         68.181818"
      ]
     },
     "execution_count": 31,
     "metadata": {},
     "output_type": "execute_result"
    }
   ],
   "source": [
    "# Filtering data based on a condition\n",
    "\n",
    "filter_data = df.groupby('Trade').filter(lambda x:x['Fee Contribution % from incharge']>50)\n",
    "filter_data"
   ]
  },
  {
   "cell_type": "code",
   "execution_count": null,
   "id": "969b49b9-0461-4b6f-a6a9-c03fc6c966a8",
   "metadata": {},
   "outputs": [],
   "source": []
  },
  {
   "cell_type": "code",
   "execution_count": null,
   "id": "39ee2076-64e5-43c3-bac3-66d6f40cb127",
   "metadata": {},
   "outputs": [],
   "source": []
  }
 ],
 "metadata": {
  "kernelspec": {
   "display_name": "Python [conda env:base] *",
   "language": "python",
   "name": "conda-base-py"
  },
  "language_info": {
   "codemirror_mode": {
    "name": "ipython",
    "version": 3
   },
   "file_extension": ".py",
   "mimetype": "text/x-python",
   "name": "python",
   "nbconvert_exporter": "python",
   "pygments_lexer": "ipython3",
   "version": "3.12.7"
  }
 },
 "nbformat": 4,
 "nbformat_minor": 5
}
